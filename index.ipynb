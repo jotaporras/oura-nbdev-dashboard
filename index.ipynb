{
 "cells": [
  {
   "cell_type": "code",
   "execution_count": null,
   "metadata": {},
   "outputs": [],
   "source": [
    "#| hide\n",
    "from oura_nbdev_dashboard.core import *"
   ]
  },
  {
   "cell_type": "markdown",
   "metadata": {},
   "source": [
    "# Oura NBDev Dashboard\n",
    "\n",
    "> Exploring nbdev by building a dashboard using the oura API\n",
    "\n",
    "Here I get total sleep per day for a range"
   ]
  },
  {
   "cell_type": "markdown",
   "metadata": {},
   "source": [
    "## Install"
   ]
  },
  {
   "cell_type": "markdown",
   "metadata": {},
   "source": [
    "```sh\n",
    "pip install oura_nbdev_dashboard\n",
    "```"
   ]
  },
  {
   "cell_type": "code",
   "execution_count": null,
   "metadata": {},
   "outputs": [],
   "source": [
    "# This is the only function that's working right now.\n",
    "from oura_nbdev_dashboard.total_sleep_demo import get_daily_sleep"
   ]
  },
  {
   "cell_type": "markdown",
   "metadata": {},
   "source": [
    "# Example usage"
   ]
  },
  {
   "cell_type": "code",
   "execution_count": null,
   "metadata": {},
   "outputs": [],
   "source": [
    "import os\n",
    "\n",
    "# Plug the OURA_TOKEN yourself :) \n",
    "daily_sleep_data = get_daily_sleep(\n",
    "    start_date='2022-09-01',\n",
    "    end_date='2022-09-16',\n",
    "    token=os.environ[\"OURA_TOKEN\"] # Get from Personal Access Tokens on the Oura API docs.\n",
    ")"
   ]
  },
  {
   "cell_type": "code",
   "execution_count": null,
   "metadata": {},
   "outputs": [
    {
     "data": {
      "text/plain": [
       "\"[{'average_breath': 16.125, 'average_heart_rate': 64.25, 'average_hrv': 33, 'awake_time': 2070, 'bedtime_end': '2022-09-01T06:00:51-06:00', 'bedtime_start': '2022-08-31T22:04:51-06:00', 'day': '2022-09-01', 'deep_sleep_duration': 4710, 'efficiency': 93, 'heart_rate': {'interval': 300.0, 'items': [None, None, 67.0, 68.0, 69.0, 71.0, 70.0, 69.0, 70.0, 71.0, 69.0, 68.0, 62.0, 62.0, 63.0, 65.0, 66.0, 70.0, 71.0, 71.0, 70.0, 71.0, 69.0, 67.0, 68.0, 68.0, 68.0, 68.0, 66.0, 66.0, 66.0, 65.0, 63.0, 63.0\""
      ]
     },
     "execution_count": null,
     "metadata": {},
     "output_type": "execute_result"
    }
   ],
   "source": [
    "str(daily_sleep_data)[:500]"
   ]
  }
 ],
 "metadata": {
  "kernelspec": {
   "display_name": "Python 3 (ipykernel)",
   "language": "python",
   "name": "python3"
  }
 },
 "nbformat": 4,
 "nbformat_minor": 4
}
